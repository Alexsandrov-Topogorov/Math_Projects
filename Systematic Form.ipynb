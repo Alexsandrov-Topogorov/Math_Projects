{
 "cells": [
  {
   "cell_type": "markdown",
   "metadata": {},
   "source": [
    "# $ Systematic \\ Form $\n",
    "### The following program aims to compute the standard form of an array representing a linear code by repeated Gaussian elimination processes:\n",
    "\n",
    "### note that the standard form of an array $A \\in \\mathbb{M}_{n \\times m}(\\frac{\\mathbb{Z}}{2 \\mathbb{Z}}) \\ for \\ (n, m) \\in \\mathbb{N}²$ is given by : \n",
    "\n",
    "#### Assuming that $m$ > $n$ :\n",
    "\n",
    "\\begin{align*}\n",
    "\\begin{bmatrix}\n",
    "  a_{11} & a_{12} & \\dots & a_{1m} \\\\\n",
    "  a_{21} & a_{22} & \\dots & a_{2m} \\\\\n",
    "  \\vdots & \\vdots & \\ddots &  \\vdots \\\\\n",
    "  a_{n1} & a_{n2} & \\dots & a_{nm} \\\\\n",
    "\\end{bmatrix}\n",
    "\\rightarrow\n",
    "\\begin{bmatrix}\n",
    "  1 & 0 & \\dots & 0 & a_{1n+1} & a_{1n+2} & \\dots &  a_{1m}\\\\\n",
    "  0 & 1 & \\dots & 0 & a_{2n+1} & a_{2n+2} & \\dots &  a_{1m}\\\\\n",
    "  \\vdots & \\vdots & \\ddots & \\vdots & \\vdots & \\vdots & \\ddots & \\vdots \\\\\n",
    "  0 & 0 & \\dots & 1 & a_{nn+1} & a_{nn+2} & \\dots &  a_{nm}\\\\\\\\\n",
    "\\end{bmatrix}\n",
    "\n",
    "\\end{align*}"
   ]
  },
  {
   "cell_type": "markdown",
   "metadata": {},
   "source": [
    "### 1) Imports:"
   ]
  },
  {
   "cell_type": "code",
   "execution_count": 1,
   "metadata": {},
   "outputs": [],
   "source": [
    "import numpy as np"
   ]
  },
  {
   "cell_type": "markdown",
   "metadata": {},
   "source": [
    "### 2) Definition of the function:"
   ]
  },
  {
   "cell_type": "code",
   "execution_count": 2,
   "metadata": {},
   "outputs": [],
   "source": [
    "def pivot(matrix, index):\n",
    "    \n",
    "    ''' This function takes in a matrix and a given index an exchanges the line\n",
    "    at that index with the first line bellow it that has non zero element at\n",
    "    that given index's column '''\n",
    "    \n",
    "    elements_in_column = list(matrix[index + 1:, index])    # listing all the entries bellow the diagonal matrix[index, index] to find the first non zero one\n",
    "    relative_index = next((ind for ind, value in enumerate(elements_in_column) if value != 0), None)    # getting the relative index of the first non zero element inside the \"element_in_column\" list\n",
    "    \n",
    "    first_non_zero_index = index + relative_index + 1 # calculating the index of the first non zero element bellow the diagonal entry matrix[index, index] in the column\n",
    "                \n",
    "    matrix[index], matrix[first_non_zero_index] = matrix[first_non_zero_index].copy(), matrix[index].copy() # swapping the lines of the matrix to bring the pivot to the desired place\n",
    "    \n",
    "    return matrix"
   ]
  },
  {
   "cell_type": "code",
   "execution_count": 9,
   "metadata": {},
   "outputs": [],
   "source": [
    "def binary_gaussian_ellimination(matrix):\n",
    "    \n",
    "    ''' This function takes in a matrix as input and procedes with the gaussian\n",
    "    ellimination process to triangularize the matrix in the finite field Z/2Z with\n",
    "    partial pivoting '''\n",
    "    ''' Note that this function yields exactly the standard form of the generator\n",
    "    matrix if the latter is not square '''\n",
    "\n",
    "    for i in range(0, matrix.shape[0] - 1): # itterating through all diagonal elements\n",
    "    \n",
    "        if matrix[i, i] == 0:\n",
    "            matrix = pivot(matrix, i) # using partial pivoting if the diagonal element is nought\n",
    "            \n",
    "        else:   # eliminating each column using the diagonal element as a pivot and only looking for entries diffrent from 0 to optimize the runtime\n",
    "            for j in range(i + 1, matrix.shape[0]): \n",
    "                if matrix[j, i] == 1:\n",
    "                    matrix[j] = (matrix[j] + matrix[i])%2\n",
    "\n",
    "    return matrix"
   ]
  },
  {
   "cell_type": "code",
   "execution_count": 19,
   "metadata": {},
   "outputs": [],
   "source": [
    "def systematic_form(generator_matrix):\n",
    "    \n",
    "    ''' This function takes in a generator_matrix and computes its standard form by\n",
    "    taking in consideration its dimention and transposing the matrix when the latter\n",
    "    is up standing before calculating, it also diagonalize the matrix when the latter\n",
    "    is square returning the identity matrix'''\n",
    "    \n",
    "    if generator_matrix.shape[0] < generator_matrix.shape[1]: # if the matrix lays flat then we compute the systematic form directly\n",
    "        return binary_gaussian_ellimination(generator_matrix)\n",
    "    \n",
    "    elif generator_matrix.shape[0] == generator_matrix.shape[1]:    # if the matrix is square we diagonalize it\n",
    "        generator_matrix = binary_gaussian_ellimination(generator_matrix)   # first triangularizing the matrix \n",
    "        \n",
    "        index_list = list(range(-generator_matrix.shape[0], -1))    # list of the indexes of the lines going from bottom to top\n",
    "        index_list.reverse()    # reversing the list to get the right order\n",
    "\n",
    "        for i in index_list:    # iterating through all the lines of the matrix from bottom to top\n",
    "            index_of_non_zero_element_over_diagonal = [index for index, value in enumerate(generator_matrix[i]) if value != 0]  # list containing all indexes of the non zero entries of the line\n",
    "            \n",
    "            for index in index_of_non_zero_element_over_diagonal[1:]:   # iterating through all non zero entries strictly over the diagonal and using the line of the same index in order to get rid of that element since the latter contains zeros besides on that index\n",
    "                generator_matrix[i] = (generator_matrix[i] + generator_matrix[index])%2\n",
    "        \n",
    "        return generator_matrix\n",
    "    \n",
    "    else:   # case where the matrix stands up\n",
    "        generator_matrix = np.transpose(generator_matrix)   # transposing the matrix\n",
    "        \n",
    "        return np.transpose(systematic_form(generator_matrix))\n",
    "        "
   ]
  },
  {
   "cell_type": "markdown",
   "metadata": {},
   "source": [
    "## Testing Cell:"
   ]
  },
  {
   "cell_type": "code",
   "execution_count": 21,
   "metadata": {},
   "outputs": [
    {
     "name": "stdout",
     "output_type": "stream",
     "text": [
      "[[1 0 0 1 0 1]\n",
      " [0 1 0 1 1 0]\n",
      " [0 0 1 0 1 1]]\n"
     ]
    }
   ],
   "source": [
    "# Testing for a flat matrix:\n",
    "\n",
    "array = np.array(\n",
    "                [[1,0,0,1,0,1],\n",
    "                 [0,1,0,1,1,0],\n",
    "                 [0,0,1,0,1,1]])\n",
    "\n",
    "standard_form = systematic_form(array)\n",
    "print(standard_form)"
   ]
  },
  {
   "cell_type": "code",
   "execution_count": 22,
   "metadata": {},
   "outputs": [
    {
     "name": "stdout",
     "output_type": "stream",
     "text": [
      "[[1 0 0 0 0 0]\n",
      " [0 1 0 0 0 0]\n",
      " [0 0 1 0 0 0]\n",
      " [0 0 0 1 0 0]\n",
      " [0 0 0 0 1 0]\n",
      " [0 0 0 0 0 1]]\n"
     ]
    }
   ],
   "source": [
    "# Testing for a square matrix:\n",
    "\n",
    "array = np.array(\n",
    "                 [[1,0,0,1,0,1]\n",
    "                 ,[0,1,0,1,1,0]\n",
    "                 ,[0,0,1,0,1,1]\n",
    "                 ,[0,0,0,1,0,1]\n",
    "                 ,[0,0,1,0,0,0]\n",
    "                 ,[0,0,0,0,1,0]])\n",
    "\n",
    "standard_form = systematic_form(array)\n",
    "print(standard_form)"
   ]
  },
  {
   "cell_type": "code",
   "execution_count": 23,
   "metadata": {},
   "outputs": [
    {
     "name": "stdout",
     "output_type": "stream",
     "text": [
      "[[1 0 0]\n",
      " [0 1 0]\n",
      " [0 0 1]\n",
      " [1 1 0]\n",
      " [0 1 1]\n",
      " [1 0 1]]\n"
     ]
    }
   ],
   "source": [
    "# Testing for a standing matrix:\n",
    "\n",
    "array = np.array(\n",
    "                [[1,0,0,1,0,1],\n",
    "                 [0,1,0,1,1,0],\n",
    "                 [0,0,1,0,1,1]])\n",
    "\n",
    "standard_form = systematic_form(np.transpose(array))\n",
    "print(standard_form)"
   ]
  },
  {
   "cell_type": "code",
   "execution_count": null,
   "metadata": {},
   "outputs": [],
   "source": []
  }
 ],
 "metadata": {
  "kernelspec": {
   "display_name": "Python 3",
   "language": "python",
   "name": "python3"
  },
  "language_info": {
   "codemirror_mode": {
    "name": "ipython",
    "version": 3
   },
   "file_extension": ".py",
   "mimetype": "text/x-python",
   "name": "python",
   "nbconvert_exporter": "python",
   "pygments_lexer": "ipython3",
   "version": "3.11.6"
  }
 },
 "nbformat": 4,
 "nbformat_minor": 2
}
