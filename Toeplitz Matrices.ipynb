{
 "cells": [
  {
   "cell_type": "markdown",
   "metadata": {},
   "source": [
    "# $Toeplitz \\ Matrix$\n",
    "## Exercise 7: \n",
    "### The following program consists of a function that takes in an integer as input then makes a matrix where the first line is the vector\n",
    "\n",
    "\\begin{gather*}\n",
    "    x = (1, 2, 3, ... ,n) \n",
    "\\end{gather*}\n",
    "\n",
    "### which then shifts its components and makes the matrix with the n times shifts of that vector that is :\n",
    "\n",
    "\\begin{gather*}\n",
    "    L1 = x \\\\\n",
    "    L2 = (n, 1, 2, ..., n-1)\\\\\n",
    "    L3 = (n-1, n, 1, ..., n-2)\\\\\n",
    "    .\\\\\n",
    "    .\\\\\n",
    "    .\\\\\n",
    "    Ln = (2, 3, 4, ..., n-1, n, 1)\\\\\n",
    "\\end{gather*}\n",
    "\n",
    "### Hense giving us the following Matrix:\n",
    "\n",
    "\\begin{gather*}\n",
    "    M = \\begin{pmatrix}\n",
    "        1 & 2 & 3 & ... & n \\\\\n",
    "        n & 1 & 2 & ... & n-1 \\\\\n",
    "        n-1 & n & 1 & ... & n-2 \\\\\n",
    "        . & . & . & . & . \\\\\n",
    "        . & . & . & . & . \\\\\n",
    "        . & . & . & . & . \\\\\n",
    "        2 & 3 & 4 & ... & 1\n",
    "        \\end{pmatrix}\n",
    "\\end{gather*}"
   ]
  },
  {
   "cell_type": "markdown",
   "metadata": {},
   "source": [
    "#### *- Toeplitz matrices generating function:"
   ]
  },
  {
   "cell_type": "code",
   "execution_count": 13,
   "metadata": {},
   "outputs": [],
   "source": [
    "import numpy as np\n",
    "\n",
    "def Toeplitz_Matrix(n):\n",
    "    x = np.array(list(range(1, n + 1))) \n",
    "    matrix = [x]\n",
    "\n",
    "    for step in range(1, n):\n",
    "        vector = []\n",
    "        vector = np.hstack((np.array(list(range(x[-step], n + 1))), np.array(x[:-step])))\n",
    "        matrix = np.vstack((matrix, vector))\n",
    "        \n",
    "    return matrix"
   ]
  },
  {
   "cell_type": "markdown",
   "metadata": {},
   "source": [
    "# Test Cell"
   ]
  },
  {
   "cell_type": "code",
   "execution_count": 17,
   "metadata": {},
   "outputs": [
    {
     "name": "stdout",
     "output_type": "stream",
     "text": [
      "[[ 1  2  3  4  5  6  7  8  9 10 11 12 13 14 15 16 17 18 19 20]\n",
      " [20  1  2  3  4  5  6  7  8  9 10 11 12 13 14 15 16 17 18 19]\n",
      " [19 20  1  2  3  4  5  6  7  8  9 10 11 12 13 14 15 16 17 18]\n",
      " [18 19 20  1  2  3  4  5  6  7  8  9 10 11 12 13 14 15 16 17]\n",
      " [17 18 19 20  1  2  3  4  5  6  7  8  9 10 11 12 13 14 15 16]\n",
      " [16 17 18 19 20  1  2  3  4  5  6  7  8  9 10 11 12 13 14 15]\n",
      " [15 16 17 18 19 20  1  2  3  4  5  6  7  8  9 10 11 12 13 14]\n",
      " [14 15 16 17 18 19 20  1  2  3  4  5  6  7  8  9 10 11 12 13]\n",
      " [13 14 15 16 17 18 19 20  1  2  3  4  5  6  7  8  9 10 11 12]\n",
      " [12 13 14 15 16 17 18 19 20  1  2  3  4  5  6  7  8  9 10 11]\n",
      " [11 12 13 14 15 16 17 18 19 20  1  2  3  4  5  6  7  8  9 10]\n",
      " [10 11 12 13 14 15 16 17 18 19 20  1  2  3  4  5  6  7  8  9]\n",
      " [ 9 10 11 12 13 14 15 16 17 18 19 20  1  2  3  4  5  6  7  8]\n",
      " [ 8  9 10 11 12 13 14 15 16 17 18 19 20  1  2  3  4  5  6  7]\n",
      " [ 7  8  9 10 11 12 13 14 15 16 17 18 19 20  1  2  3  4  5  6]\n",
      " [ 6  7  8  9 10 11 12 13 14 15 16 17 18 19 20  1  2  3  4  5]\n",
      " [ 5  6  7  8  9 10 11 12 13 14 15 16 17 18 19 20  1  2  3  4]\n",
      " [ 4  5  6  7  8  9 10 11 12 13 14 15 16 17 18 19 20  1  2  3]\n",
      " [ 3  4  5  6  7  8  9 10 11 12 13 14 15 16 17 18 19 20  1  2]\n",
      " [ 2  3  4  5  6  7  8  9 10 11 12 13 14 15 16 17 18 19 20  1]]\n"
     ]
    }
   ],
   "source": [
    "print(Toeplitz_Matrix(20))"
   ]
  },
  {
   "cell_type": "code",
   "execution_count": null,
   "metadata": {},
   "outputs": [],
   "source": []
  }
 ],
 "metadata": {
  "kernelspec": {
   "display_name": "Python 3",
   "language": "python",
   "name": "python3"
  },
  "language_info": {
   "codemirror_mode": {
    "name": "ipython",
    "version": 3
   },
   "file_extension": ".py",
   "mimetype": "text/x-python",
   "name": "python",
   "nbconvert_exporter": "python",
   "pygments_lexer": "ipython3",
   "version": "3.11.6"
  }
 },
 "nbformat": 4,
 "nbformat_minor": 2
}
