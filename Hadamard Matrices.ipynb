{
 "cells": [
  {
   "cell_type": "markdown",
   "metadata": {},
   "source": [
    "# $ Hadamard \\ Matrices:$\n",
    "### The following program represents a function that takes in a natural number $k \\in \\mathbb{N}$ and computes the Matrix of order $2^k$\n",
    "### note that hadamard matrices are the matrices made as follows:\n",
    "\n",
    "\\begin{gather*}\n",
    "H_0 = (1)\\\\\n",
    "\\\\\n",
    "H_1 = \\begin{pmatrix}\n",
    "        H_0 & H_0\\\\\n",
    "        H_0 & -H_0\n",
    "    \\end{pmatrix} = \n",
    "     \\begin{pmatrix}\n",
    "        1 & 1\\\\\n",
    "        1 & -1\n",
    "    \\end{pmatrix}\\\\ \n",
    "\\\\\n",
    "H_2 = \\begin{pmatrix}\n",
    "        H_1 & H_1\\\\\n",
    "        H_1 & -H_1\n",
    "    \\end{pmatrix} = \n",
    "     \\begin{pmatrix}\n",
    "        1 & 1 & 1 & 1\\\\\n",
    "        1 & -1 & 1 & -1 \\\\\n",
    "        1 & 1 & -1 & -1 \\\\\n",
    "        1 & -1 & -1 & 1\n",
    "    \\end{pmatrix} =\n",
    "\\\\\n",
    ".\\\\\n",
    ".\\\\\n",
    ".\\\\\n",
    "\\\\\n",
    "H_n = \\begin{pmatrix}\n",
    "        H_{n-1} & H_{n-1}\\\\\n",
    "        H_{n-1} & -H_{n-1}\n",
    "    \\end{pmatrix}\n",
    "\\end{gather*}\n"
   ]
  },
  {
   "cell_type": "markdown",
   "metadata": {},
   "source": [
    "#### *- Hadamard Matrices Generator:"
   ]
  },
  {
   "cell_type": "code",
   "execution_count": 1,
   "metadata": {},
   "outputs": [],
   "source": [
    "import numpy as np\n",
    "\n",
    "def Hadamard_Matrix(n):\n",
    "    if n==0:\n",
    "        return 1\n",
    "    else:\n",
    "        return np.vstack((np.hstack((Hadamard_Matrix(n-1), Hadamard_Matrix(n-1))),np.hstack((Hadamard_Matrix(n-1), -Hadamard_Matrix(n-1)))))"
   ]
  },
  {
   "cell_type": "markdown",
   "metadata": {},
   "source": [
    "# Test Cell"
   ]
  },
  {
   "cell_type": "code",
   "execution_count": 2,
   "metadata": {},
   "outputs": [
    {
     "name": "stdout",
     "output_type": "stream",
     "text": [
      "[[ 1  1  1  1  1  1  1  1  1  1  1  1  1  1  1  1]\n",
      " [ 1 -1  1 -1  1 -1  1 -1  1 -1  1 -1  1 -1  1 -1]\n",
      " [ 1  1 -1 -1  1  1 -1 -1  1  1 -1 -1  1  1 -1 -1]\n",
      " [ 1 -1 -1  1  1 -1 -1  1  1 -1 -1  1  1 -1 -1  1]\n",
      " [ 1  1  1  1 -1 -1 -1 -1  1  1  1  1 -1 -1 -1 -1]\n",
      " [ 1 -1  1 -1 -1  1 -1  1  1 -1  1 -1 -1  1 -1  1]\n",
      " [ 1  1 -1 -1 -1 -1  1  1  1  1 -1 -1 -1 -1  1  1]\n",
      " [ 1 -1 -1  1 -1  1  1 -1  1 -1 -1  1 -1  1  1 -1]\n",
      " [ 1  1  1  1  1  1  1  1 -1 -1 -1 -1 -1 -1 -1 -1]\n",
      " [ 1 -1  1 -1  1 -1  1 -1 -1  1 -1  1 -1  1 -1  1]\n",
      " [ 1  1 -1 -1  1  1 -1 -1 -1 -1  1  1 -1 -1  1  1]\n",
      " [ 1 -1 -1  1  1 -1 -1  1 -1  1  1 -1 -1  1  1 -1]\n",
      " [ 1  1  1  1 -1 -1 -1 -1 -1 -1 -1 -1  1  1  1  1]\n",
      " [ 1 -1  1 -1 -1  1 -1  1 -1  1 -1  1  1 -1  1 -1]\n",
      " [ 1  1 -1 -1 -1 -1  1  1 -1 -1  1  1  1  1 -1 -1]\n",
      " [ 1 -1 -1  1 -1  1  1 -1 -1  1  1 -1  1 -1 -1  1]]\n"
     ]
    }
   ],
   "source": [
    "print(Hadamard_Matrix(4))"
   ]
  }
 ],
 "metadata": {
  "kernelspec": {
   "display_name": "Python 3",
   "language": "python",
   "name": "python3"
  },
  "language_info": {
   "codemirror_mode": {
    "name": "ipython",
    "version": 3
   },
   "file_extension": ".py",
   "mimetype": "text/x-python",
   "name": "python",
   "nbconvert_exporter": "python",
   "pygments_lexer": "ipython3",
   "version": "3.11.0"
  }
 },
 "nbformat": 4,
 "nbformat_minor": 2
}
